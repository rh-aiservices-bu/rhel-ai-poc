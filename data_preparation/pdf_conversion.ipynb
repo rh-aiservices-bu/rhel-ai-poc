{
 "cells": [
  {
   "cell_type": "code",
   "metadata": {
    "ExecuteTime": {
     "end_time": "2024-12-11T20:51:55.620525Z",
     "start_time": "2024-12-11T20:51:54.687054Z"
    }
   },
   "source": [
    "from os import mkdir, makedirs\n",
    "!pip install -r requirements.txt"
   ],
   "outputs": [
    {
     "name": "stdout",
     "output_type": "stream",
     "text": [
      "Requirement already satisfied: langchain-text-splitters in /Users/cchase/git/github/cfchase/ny-state-poc/venv/lib/python3.11/site-packages (from -r requirements.txt (line 1)) (0.3.2)\r\n",
      "Requirement already satisfied: datasets in /Users/cchase/git/github/cfchase/ny-state-poc/venv/lib/python3.11/site-packages (from -r requirements.txt (line 2)) (3.2.0)\r\n",
      "Requirement already satisfied: rich in /Users/cchase/git/github/cfchase/ny-state-poc/venv/lib/python3.11/site-packages (from -r requirements.txt (line 3)) (13.9.4)\r\n",
      "Requirement already satisfied: docling~=2.5.2 in /Users/cchase/git/github/cfchase/ny-state-poc/venv/lib/python3.11/site-packages (from docling[tesserocr]~=2.5.2->-r requirements.txt (line 4)) (2.5.2)\r\n",
      "Requirement already satisfied: click<9.0.0,>=8.1.7 in /Users/cchase/git/github/cfchase/ny-state-poc/venv/lib/python3.11/site-packages (from -r requirements.txt (line 5)) (8.1.7)\r\n",
      "Requirement already satisfied: tabulate in /Users/cchase/git/github/cfchase/ny-state-poc/venv/lib/python3.11/site-packages (from -r requirements.txt (line 6)) (0.9.0)\r\n",
      "Requirement already satisfied: transformers in /Users/cchase/git/github/cfchase/ny-state-poc/venv/lib/python3.11/site-packages (from -r requirements.txt (line 7)) (4.47.0)\r\n",
      "Requirement already satisfied: ruamel.yaml in /Users/cchase/git/github/cfchase/ny-state-poc/venv/lib/python3.11/site-packages (from -r requirements.txt (line 8)) (0.18.6)\r\n",
      "Requirement already satisfied: langchain-core<0.4.0,>=0.3.15 in /Users/cchase/git/github/cfchase/ny-state-poc/venv/lib/python3.11/site-packages (from langchain-text-splitters->-r requirements.txt (line 1)) (0.3.15)\r\n",
      "Requirement already satisfied: filelock in /Users/cchase/git/github/cfchase/ny-state-poc/venv/lib/python3.11/site-packages (from datasets->-r requirements.txt (line 2)) (3.16.1)\r\n",
      "Requirement already satisfied: numpy>=1.17 in /Users/cchase/git/github/cfchase/ny-state-poc/venv/lib/python3.11/site-packages (from datasets->-r requirements.txt (line 2)) (1.26.4)\r\n",
      "Requirement already satisfied: pyarrow>=15.0.0 in /Users/cchase/git/github/cfchase/ny-state-poc/venv/lib/python3.11/site-packages (from datasets->-r requirements.txt (line 2)) (16.1.0)\r\n",
      "Requirement already satisfied: dill<0.3.9,>=0.3.0 in /Users/cchase/git/github/cfchase/ny-state-poc/venv/lib/python3.11/site-packages (from datasets->-r requirements.txt (line 2)) (0.3.8)\r\n",
      "Requirement already satisfied: pandas in /Users/cchase/git/github/cfchase/ny-state-poc/venv/lib/python3.11/site-packages (from datasets->-r requirements.txt (line 2)) (2.2.3)\r\n",
      "Requirement already satisfied: requests>=2.32.2 in /Users/cchase/git/github/cfchase/ny-state-poc/venv/lib/python3.11/site-packages (from datasets->-r requirements.txt (line 2)) (2.32.3)\r\n",
      "Requirement already satisfied: tqdm>=4.66.3 in /Users/cchase/git/github/cfchase/ny-state-poc/venv/lib/python3.11/site-packages (from datasets->-r requirements.txt (line 2)) (4.67.0)\r\n",
      "Requirement already satisfied: xxhash in /Users/cchase/git/github/cfchase/ny-state-poc/venv/lib/python3.11/site-packages (from datasets->-r requirements.txt (line 2)) (3.5.0)\r\n",
      "Requirement already satisfied: multiprocess<0.70.17 in /Users/cchase/git/github/cfchase/ny-state-poc/venv/lib/python3.11/site-packages (from datasets->-r requirements.txt (line 2)) (0.70.16)\r\n",
      "Requirement already satisfied: fsspec<=2024.9.0,>=2023.1.0 in /Users/cchase/git/github/cfchase/ny-state-poc/venv/lib/python3.11/site-packages (from fsspec[http]<=2024.9.0,>=2023.1.0->datasets->-r requirements.txt (line 2)) (2024.6.1)\r\n",
      "Requirement already satisfied: aiohttp in /Users/cchase/git/github/cfchase/ny-state-poc/venv/lib/python3.11/site-packages (from datasets->-r requirements.txt (line 2)) (3.10.10)\r\n",
      "Requirement already satisfied: huggingface-hub>=0.23.0 in /Users/cchase/git/github/cfchase/ny-state-poc/venv/lib/python3.11/site-packages (from datasets->-r requirements.txt (line 2)) (0.26.2)\r\n",
      "Requirement already satisfied: packaging in /Users/cchase/git/github/cfchase/ny-state-poc/venv/lib/python3.11/site-packages (from datasets->-r requirements.txt (line 2)) (24.1)\r\n",
      "Requirement already satisfied: pyyaml>=5.1 in /Users/cchase/git/github/cfchase/ny-state-poc/venv/lib/python3.11/site-packages (from datasets->-r requirements.txt (line 2)) (6.0.2)\r\n",
      "Requirement already satisfied: markdown-it-py>=2.2.0 in /Users/cchase/git/github/cfchase/ny-state-poc/venv/lib/python3.11/site-packages (from rich->-r requirements.txt (line 3)) (3.0.0)\r\n",
      "Requirement already satisfied: pygments<3.0.0,>=2.13.0 in /Users/cchase/git/github/cfchase/ny-state-poc/venv/lib/python3.11/site-packages (from rich->-r requirements.txt (line 3)) (2.18.0)\r\n",
      "Requirement already satisfied: beautifulsoup4<5.0.0,>=4.12.3 in /Users/cchase/git/github/cfchase/ny-state-poc/venv/lib/python3.11/site-packages (from docling~=2.5.2->docling[tesserocr]~=2.5.2->-r requirements.txt (line 4)) (4.12.3)\r\n",
      "Requirement already satisfied: certifi>=2024.7.4 in /Users/cchase/git/github/cfchase/ny-state-poc/venv/lib/python3.11/site-packages (from docling~=2.5.2->docling[tesserocr]~=2.5.2->-r requirements.txt (line 4)) (2024.8.30)\r\n",
      "Requirement already satisfied: deepsearch-glm<0.27.0,>=0.26.1 in /Users/cchase/git/github/cfchase/ny-state-poc/venv/lib/python3.11/site-packages (from docling~=2.5.2->docling[tesserocr]~=2.5.2->-r requirements.txt (line 4)) (0.26.1)\r\n",
      "Requirement already satisfied: docling-core<3.0.0,>=2.3.0 in /Users/cchase/git/github/cfchase/ny-state-poc/venv/lib/python3.11/site-packages (from docling~=2.5.2->docling[tesserocr]~=2.5.2->-r requirements.txt (line 4)) (2.3.2)\r\n",
      "Requirement already satisfied: docling-ibm-models<3.0.0,>=2.0.3 in /Users/cchase/git/github/cfchase/ny-state-poc/venv/lib/python3.11/site-packages (from docling~=2.5.2->docling[tesserocr]~=2.5.2->-r requirements.txt (line 4)) (2.0.6)\r\n",
      "Requirement already satisfied: docling-parse<3.0.0,>=2.0.2 in /Users/cchase/git/github/cfchase/ny-state-poc/venv/lib/python3.11/site-packages (from docling~=2.5.2->docling[tesserocr]~=2.5.2->-r requirements.txt (line 4)) (2.0.5)\r\n",
      "Requirement already satisfied: easyocr<2.0,>=1.7 in /Users/cchase/git/github/cfchase/ny-state-poc/venv/lib/python3.11/site-packages (from docling~=2.5.2->docling[tesserocr]~=2.5.2->-r requirements.txt (line 4)) (1.7.2)\r\n",
      "Requirement already satisfied: filetype<2.0.0,>=1.2.0 in /Users/cchase/git/github/cfchase/ny-state-poc/venv/lib/python3.11/site-packages (from docling~=2.5.2->docling[tesserocr]~=2.5.2->-r requirements.txt (line 4)) (1.2.0)\r\n",
      "Requirement already satisfied: marko<3.0.0,>=2.1.2 in /Users/cchase/git/github/cfchase/ny-state-poc/venv/lib/python3.11/site-packages (from docling~=2.5.2->docling[tesserocr]~=2.5.2->-r requirements.txt (line 4)) (2.1.2)\r\n",
      "Requirement already satisfied: pydantic<3.0.0,>=2.0.0 in /Users/cchase/git/github/cfchase/ny-state-poc/venv/lib/python3.11/site-packages (from docling~=2.5.2->docling[tesserocr]~=2.5.2->-r requirements.txt (line 4)) (2.9.2)\r\n",
      "Requirement already satisfied: pydantic-settings<3.0.0,>=2.3.0 in /Users/cchase/git/github/cfchase/ny-state-poc/venv/lib/python3.11/site-packages (from docling~=2.5.2->docling[tesserocr]~=2.5.2->-r requirements.txt (line 4)) (2.6.1)\r\n",
      "Requirement already satisfied: pypdfium2<5.0.0,>=4.30.0 in /Users/cchase/git/github/cfchase/ny-state-poc/venv/lib/python3.11/site-packages (from docling~=2.5.2->docling[tesserocr]~=2.5.2->-r requirements.txt (line 4)) (4.30.0)\r\n",
      "Requirement already satisfied: python-docx<2.0.0,>=1.1.2 in /Users/cchase/git/github/cfchase/ny-state-poc/venv/lib/python3.11/site-packages (from docling~=2.5.2->docling[tesserocr]~=2.5.2->-r requirements.txt (line 4)) (1.1.2)\r\n",
      "Requirement already satisfied: python-pptx<2.0.0,>=1.0.2 in /Users/cchase/git/github/cfchase/ny-state-poc/venv/lib/python3.11/site-packages (from docling~=2.5.2->docling[tesserocr]~=2.5.2->-r requirements.txt (line 4)) (1.0.2)\r\n",
      "Requirement already satisfied: rtree<2.0.0,>=1.3.0 in /Users/cchase/git/github/cfchase/ny-state-poc/venv/lib/python3.11/site-packages (from docling~=2.5.2->docling[tesserocr]~=2.5.2->-r requirements.txt (line 4)) (1.3.0)\r\n",
      "Requirement already satisfied: scipy<2.0.0,>=1.14.1 in /Users/cchase/git/github/cfchase/ny-state-poc/venv/lib/python3.11/site-packages (from docling~=2.5.2->docling[tesserocr]~=2.5.2->-r requirements.txt (line 4)) (1.14.1)\r\n",
      "Requirement already satisfied: typer<0.13.0,>=0.12.5 in /Users/cchase/git/github/cfchase/ny-state-poc/venv/lib/python3.11/site-packages (from docling~=2.5.2->docling[tesserocr]~=2.5.2->-r requirements.txt (line 4)) (0.12.5)\r\n",
      "Requirement already satisfied: regex!=2019.12.17 in /Users/cchase/git/github/cfchase/ny-state-poc/venv/lib/python3.11/site-packages (from transformers->-r requirements.txt (line 7)) (2024.11.6)\r\n",
      "Requirement already satisfied: tokenizers<0.22,>=0.21 in /Users/cchase/git/github/cfchase/ny-state-poc/venv/lib/python3.11/site-packages (from transformers->-r requirements.txt (line 7)) (0.21.0)\r\n",
      "Requirement already satisfied: safetensors>=0.4.1 in /Users/cchase/git/github/cfchase/ny-state-poc/venv/lib/python3.11/site-packages (from transformers->-r requirements.txt (line 7)) (0.4.5)\r\n",
      "Requirement already satisfied: ruamel.yaml.clib>=0.2.7 in /Users/cchase/git/github/cfchase/ny-state-poc/venv/lib/python3.11/site-packages (from ruamel.yaml->-r requirements.txt (line 8)) (0.2.12)\r\n",
      "Requirement already satisfied: tesserocr<3.0.0,>=2.7.1 in /Users/cchase/git/github/cfchase/ny-state-poc/venv/lib/python3.11/site-packages (from docling[tesserocr]~=2.5.2->-r requirements.txt (line 4)) (2.7.1)\r\n",
      "Requirement already satisfied: soupsieve>1.2 in /Users/cchase/git/github/cfchase/ny-state-poc/venv/lib/python3.11/site-packages (from beautifulsoup4<5.0.0,>=4.12.3->docling~=2.5.2->docling[tesserocr]~=2.5.2->-r requirements.txt (line 4)) (2.6)\r\n",
      "Requirement already satisfied: docutils!=0.21 in /Users/cchase/git/github/cfchase/ny-state-poc/venv/lib/python3.11/site-packages (from deepsearch-glm<0.27.0,>=0.26.1->docling~=2.5.2->docling[tesserocr]~=2.5.2->-r requirements.txt (line 4)) (0.21.2)\r\n",
      "Requirement already satisfied: python-dotenv<2.0.0,>=1.0.0 in /Users/cchase/git/github/cfchase/ny-state-poc/venv/lib/python3.11/site-packages (from deepsearch-glm<0.27.0,>=0.26.1->docling~=2.5.2->docling[tesserocr]~=2.5.2->-r requirements.txt (line 4)) (1.0.1)\r\n",
      "Requirement already satisfied: jsonref<2.0.0,>=1.1.0 in /Users/cchase/git/github/cfchase/ny-state-poc/venv/lib/python3.11/site-packages (from docling-core<3.0.0,>=2.3.0->docling~=2.5.2->docling[tesserocr]~=2.5.2->-r requirements.txt (line 4)) (1.1.0)\r\n",
      "Requirement already satisfied: jsonschema<5.0.0,>=4.16.0 in /Users/cchase/git/github/cfchase/ny-state-poc/venv/lib/python3.11/site-packages (from docling-core<3.0.0,>=2.3.0->docling~=2.5.2->docling[tesserocr]~=2.5.2->-r requirements.txt (line 4)) (4.23.0)\r\n",
      "Requirement already satisfied: pillow<11.0.0,>=10.3.0 in /Users/cchase/git/github/cfchase/ny-state-poc/venv/lib/python3.11/site-packages (from docling-core<3.0.0,>=2.3.0->docling~=2.5.2->docling[tesserocr]~=2.5.2->-r requirements.txt (line 4)) (10.4.0)\r\n",
      "Requirement already satisfied: jsonlines<4.0.0,>=3.1.0 in /Users/cchase/git/github/cfchase/ny-state-poc/venv/lib/python3.11/site-packages (from docling-ibm-models<3.0.0,>=2.0.3->docling~=2.5.2->docling[tesserocr]~=2.5.2->-r requirements.txt (line 4)) (3.1.0)\r\n",
      "Requirement already satisfied: opencv-python-headless<5.0.0.0,>=4.6.0.66 in /Users/cchase/git/github/cfchase/ny-state-poc/venv/lib/python3.11/site-packages (from docling-ibm-models<3.0.0,>=2.0.3->docling~=2.5.2->docling[tesserocr]~=2.5.2->-r requirements.txt (line 4)) (4.10.0.84)\r\n",
      "Requirement already satisfied: torch<3.0.0,>=2.2.2 in /Users/cchase/git/github/cfchase/ny-state-poc/venv/lib/python3.11/site-packages (from docling-ibm-models<3.0.0,>=2.0.3->docling~=2.5.2->docling[tesserocr]~=2.5.2->-r requirements.txt (line 4)) (2.5.1)\r\n",
      "Requirement already satisfied: torchvision<1,>=0 in /Users/cchase/git/github/cfchase/ny-state-poc/venv/lib/python3.11/site-packages (from docling-ibm-models<3.0.0,>=2.0.3->docling~=2.5.2->docling[tesserocr]~=2.5.2->-r requirements.txt (line 4)) (0.20.1)\r\n",
      "Requirement already satisfied: scikit-image in /Users/cchase/git/github/cfchase/ny-state-poc/venv/lib/python3.11/site-packages (from easyocr<2.0,>=1.7->docling~=2.5.2->docling[tesserocr]~=2.5.2->-r requirements.txt (line 4)) (0.24.0)\r\n",
      "Requirement already satisfied: python-bidi in /Users/cchase/git/github/cfchase/ny-state-poc/venv/lib/python3.11/site-packages (from easyocr<2.0,>=1.7->docling~=2.5.2->docling[tesserocr]~=2.5.2->-r requirements.txt (line 4)) (0.6.3)\r\n",
      "Requirement already satisfied: Shapely in /Users/cchase/git/github/cfchase/ny-state-poc/venv/lib/python3.11/site-packages (from easyocr<2.0,>=1.7->docling~=2.5.2->docling[tesserocr]~=2.5.2->-r requirements.txt (line 4)) (2.0.6)\r\n",
      "Requirement already satisfied: pyclipper in /Users/cchase/git/github/cfchase/ny-state-poc/venv/lib/python3.11/site-packages (from easyocr<2.0,>=1.7->docling~=2.5.2->docling[tesserocr]~=2.5.2->-r requirements.txt (line 4)) (1.3.0.post6)\r\n",
      "Requirement already satisfied: ninja in /Users/cchase/git/github/cfchase/ny-state-poc/venv/lib/python3.11/site-packages (from easyocr<2.0,>=1.7->docling~=2.5.2->docling[tesserocr]~=2.5.2->-r requirements.txt (line 4)) (1.11.1.1)\r\n",
      "Requirement already satisfied: aiohappyeyeballs>=2.3.0 in /Users/cchase/git/github/cfchase/ny-state-poc/venv/lib/python3.11/site-packages (from aiohttp->datasets->-r requirements.txt (line 2)) (2.4.3)\r\n",
      "Requirement already satisfied: aiosignal>=1.1.2 in /Users/cchase/git/github/cfchase/ny-state-poc/venv/lib/python3.11/site-packages (from aiohttp->datasets->-r requirements.txt (line 2)) (1.3.1)\r\n",
      "Requirement already satisfied: attrs>=17.3.0 in /Users/cchase/git/github/cfchase/ny-state-poc/venv/lib/python3.11/site-packages (from aiohttp->datasets->-r requirements.txt (line 2)) (24.2.0)\r\n",
      "Requirement already satisfied: frozenlist>=1.1.1 in /Users/cchase/git/github/cfchase/ny-state-poc/venv/lib/python3.11/site-packages (from aiohttp->datasets->-r requirements.txt (line 2)) (1.5.0)\r\n",
      "Requirement already satisfied: multidict<7.0,>=4.5 in /Users/cchase/git/github/cfchase/ny-state-poc/venv/lib/python3.11/site-packages (from aiohttp->datasets->-r requirements.txt (line 2)) (6.1.0)\r\n",
      "Requirement already satisfied: yarl<2.0,>=1.12.0 in /Users/cchase/git/github/cfchase/ny-state-poc/venv/lib/python3.11/site-packages (from aiohttp->datasets->-r requirements.txt (line 2)) (1.17.1)\r\n",
      "Requirement already satisfied: typing-extensions>=3.7.4.3 in /Users/cchase/git/github/cfchase/ny-state-poc/venv/lib/python3.11/site-packages (from huggingface-hub>=0.23.0->datasets->-r requirements.txt (line 2)) (4.12.2)\r\n",
      "Requirement already satisfied: jsonpatch<2.0,>=1.33 in /Users/cchase/git/github/cfchase/ny-state-poc/venv/lib/python3.11/site-packages (from langchain-core<0.4.0,>=0.3.15->langchain-text-splitters->-r requirements.txt (line 1)) (1.33)\r\n",
      "Requirement already satisfied: langsmith<0.2.0,>=0.1.125 in /Users/cchase/git/github/cfchase/ny-state-poc/venv/lib/python3.11/site-packages (from langchain-core<0.4.0,>=0.3.15->langchain-text-splitters->-r requirements.txt (line 1)) (0.1.140)\r\n",
      "Requirement already satisfied: tenacity!=8.4.0,<10.0.0,>=8.1.0 in /Users/cchase/git/github/cfchase/ny-state-poc/venv/lib/python3.11/site-packages (from langchain-core<0.4.0,>=0.3.15->langchain-text-splitters->-r requirements.txt (line 1)) (9.0.0)\r\n",
      "Requirement already satisfied: mdurl~=0.1 in /Users/cchase/git/github/cfchase/ny-state-poc/venv/lib/python3.11/site-packages (from markdown-it-py>=2.2.0->rich->-r requirements.txt (line 3)) (0.1.2)\r\n",
      "Requirement already satisfied: python-dateutil>=2.8.2 in /Users/cchase/git/github/cfchase/ny-state-poc/venv/lib/python3.11/site-packages (from pandas->datasets->-r requirements.txt (line 2)) (2.9.0.post0)\r\n",
      "Requirement already satisfied: pytz>=2020.1 in /Users/cchase/git/github/cfchase/ny-state-poc/venv/lib/python3.11/site-packages (from pandas->datasets->-r requirements.txt (line 2)) (2024.2)\r\n",
      "Requirement already satisfied: tzdata>=2022.7 in /Users/cchase/git/github/cfchase/ny-state-poc/venv/lib/python3.11/site-packages (from pandas->datasets->-r requirements.txt (line 2)) (2024.2)\r\n",
      "Requirement already satisfied: annotated-types>=0.6.0 in /Users/cchase/git/github/cfchase/ny-state-poc/venv/lib/python3.11/site-packages (from pydantic<3.0.0,>=2.0.0->docling~=2.5.2->docling[tesserocr]~=2.5.2->-r requirements.txt (line 4)) (0.7.0)\r\n",
      "Requirement already satisfied: pydantic-core==2.23.4 in /Users/cchase/git/github/cfchase/ny-state-poc/venv/lib/python3.11/site-packages (from pydantic<3.0.0,>=2.0.0->docling~=2.5.2->docling[tesserocr]~=2.5.2->-r requirements.txt (line 4)) (2.23.4)\r\n",
      "Requirement already satisfied: lxml>=3.1.0 in /Users/cchase/git/github/cfchase/ny-state-poc/venv/lib/python3.11/site-packages (from python-docx<2.0.0,>=1.1.2->docling~=2.5.2->docling[tesserocr]~=2.5.2->-r requirements.txt (line 4)) (4.9.4)\r\n",
      "Requirement already satisfied: XlsxWriter>=0.5.7 in /Users/cchase/git/github/cfchase/ny-state-poc/venv/lib/python3.11/site-packages (from python-pptx<2.0.0,>=1.0.2->docling~=2.5.2->docling[tesserocr]~=2.5.2->-r requirements.txt (line 4)) (3.2.0)\r\n",
      "Requirement already satisfied: charset-normalizer<4,>=2 in /Users/cchase/git/github/cfchase/ny-state-poc/venv/lib/python3.11/site-packages (from requests>=2.32.2->datasets->-r requirements.txt (line 2)) (3.4.0)\r\n",
      "Requirement already satisfied: idna<4,>=2.5 in /Users/cchase/git/github/cfchase/ny-state-poc/venv/lib/python3.11/site-packages (from requests>=2.32.2->datasets->-r requirements.txt (line 2)) (3.10)\r\n",
      "Requirement already satisfied: urllib3<3,>=1.21.1 in /Users/cchase/git/github/cfchase/ny-state-poc/venv/lib/python3.11/site-packages (from requests>=2.32.2->datasets->-r requirements.txt (line 2)) (2.2.3)\r\n",
      "Requirement already satisfied: shellingham>=1.3.0 in /Users/cchase/git/github/cfchase/ny-state-poc/venv/lib/python3.11/site-packages (from typer<0.13.0,>=0.12.5->docling~=2.5.2->docling[tesserocr]~=2.5.2->-r requirements.txt (line 4)) (1.5.4)\r\n",
      "Requirement already satisfied: jsonpointer>=1.9 in /Users/cchase/git/github/cfchase/ny-state-poc/venv/lib/python3.11/site-packages (from jsonpatch<2.0,>=1.33->langchain-core<0.4.0,>=0.3.15->langchain-text-splitters->-r requirements.txt (line 1)) (3.0.0)\r\n",
      "Requirement already satisfied: jsonschema-specifications>=2023.03.6 in /Users/cchase/git/github/cfchase/ny-state-poc/venv/lib/python3.11/site-packages (from jsonschema<5.0.0,>=4.16.0->docling-core<3.0.0,>=2.3.0->docling~=2.5.2->docling[tesserocr]~=2.5.2->-r requirements.txt (line 4)) (2024.10.1)\r\n",
      "Requirement already satisfied: referencing>=0.28.4 in /Users/cchase/git/github/cfchase/ny-state-poc/venv/lib/python3.11/site-packages (from jsonschema<5.0.0,>=4.16.0->docling-core<3.0.0,>=2.3.0->docling~=2.5.2->docling[tesserocr]~=2.5.2->-r requirements.txt (line 4)) (0.35.1)\r\n",
      "Requirement already satisfied: rpds-py>=0.7.1 in /Users/cchase/git/github/cfchase/ny-state-poc/venv/lib/python3.11/site-packages (from jsonschema<5.0.0,>=4.16.0->docling-core<3.0.0,>=2.3.0->docling~=2.5.2->docling[tesserocr]~=2.5.2->-r requirements.txt (line 4)) (0.21.0)\r\n",
      "Requirement already satisfied: httpx<1,>=0.23.0 in /Users/cchase/git/github/cfchase/ny-state-poc/venv/lib/python3.11/site-packages (from langsmith<0.2.0,>=0.1.125->langchain-core<0.4.0,>=0.3.15->langchain-text-splitters->-r requirements.txt (line 1)) (0.27.2)\r\n",
      "Requirement already satisfied: orjson<4.0.0,>=3.9.14 in /Users/cchase/git/github/cfchase/ny-state-poc/venv/lib/python3.11/site-packages (from langsmith<0.2.0,>=0.1.125->langchain-core<0.4.0,>=0.3.15->langchain-text-splitters->-r requirements.txt (line 1)) (3.10.11)\r\n",
      "Requirement already satisfied: requests-toolbelt<2.0.0,>=1.0.0 in /Users/cchase/git/github/cfchase/ny-state-poc/venv/lib/python3.11/site-packages (from langsmith<0.2.0,>=0.1.125->langchain-core<0.4.0,>=0.3.15->langchain-text-splitters->-r requirements.txt (line 1)) (1.0.0)\r\n",
      "Requirement already satisfied: six>=1.5 in /Users/cchase/git/github/cfchase/ny-state-poc/venv/lib/python3.11/site-packages (from python-dateutil>=2.8.2->pandas->datasets->-r requirements.txt (line 2)) (1.16.0)\r\n",
      "Requirement already satisfied: networkx in /Users/cchase/git/github/cfchase/ny-state-poc/venv/lib/python3.11/site-packages (from torch<3.0.0,>=2.2.2->docling-ibm-models<3.0.0,>=2.0.3->docling~=2.5.2->docling[tesserocr]~=2.5.2->-r requirements.txt (line 4)) (3.4.2)\r\n",
      "Requirement already satisfied: jinja2 in /Users/cchase/git/github/cfchase/ny-state-poc/venv/lib/python3.11/site-packages (from torch<3.0.0,>=2.2.2->docling-ibm-models<3.0.0,>=2.0.3->docling~=2.5.2->docling[tesserocr]~=2.5.2->-r requirements.txt (line 4)) (3.1.4)\r\n",
      "Requirement already satisfied: sympy==1.13.1 in /Users/cchase/git/github/cfchase/ny-state-poc/venv/lib/python3.11/site-packages (from torch<3.0.0,>=2.2.2->docling-ibm-models<3.0.0,>=2.0.3->docling~=2.5.2->docling[tesserocr]~=2.5.2->-r requirements.txt (line 4)) (1.13.1)\r\n",
      "Requirement already satisfied: mpmath<1.4,>=1.1.0 in /Users/cchase/git/github/cfchase/ny-state-poc/venv/lib/python3.11/site-packages (from sympy==1.13.1->torch<3.0.0,>=2.2.2->docling-ibm-models<3.0.0,>=2.0.3->docling~=2.5.2->docling[tesserocr]~=2.5.2->-r requirements.txt (line 4)) (1.3.0)\r\n",
      "Requirement already satisfied: propcache>=0.2.0 in /Users/cchase/git/github/cfchase/ny-state-poc/venv/lib/python3.11/site-packages (from yarl<2.0,>=1.12.0->aiohttp->datasets->-r requirements.txt (line 2)) (0.2.0)\r\n",
      "Requirement already satisfied: imageio>=2.33 in /Users/cchase/git/github/cfchase/ny-state-poc/venv/lib/python3.11/site-packages (from scikit-image->easyocr<2.0,>=1.7->docling~=2.5.2->docling[tesserocr]~=2.5.2->-r requirements.txt (line 4)) (2.36.0)\r\n",
      "Requirement already satisfied: tifffile>=2022.8.12 in /Users/cchase/git/github/cfchase/ny-state-poc/venv/lib/python3.11/site-packages (from scikit-image->easyocr<2.0,>=1.7->docling~=2.5.2->docling[tesserocr]~=2.5.2->-r requirements.txt (line 4)) (2024.9.20)\r\n",
      "Requirement already satisfied: lazy-loader>=0.4 in /Users/cchase/git/github/cfchase/ny-state-poc/venv/lib/python3.11/site-packages (from scikit-image->easyocr<2.0,>=1.7->docling~=2.5.2->docling[tesserocr]~=2.5.2->-r requirements.txt (line 4)) (0.4)\r\n",
      "Requirement already satisfied: anyio in /Users/cchase/git/github/cfchase/ny-state-poc/venv/lib/python3.11/site-packages (from httpx<1,>=0.23.0->langsmith<0.2.0,>=0.1.125->langchain-core<0.4.0,>=0.3.15->langchain-text-splitters->-r requirements.txt (line 1)) (4.6.2.post1)\r\n",
      "Requirement already satisfied: httpcore==1.* in /Users/cchase/git/github/cfchase/ny-state-poc/venv/lib/python3.11/site-packages (from httpx<1,>=0.23.0->langsmith<0.2.0,>=0.1.125->langchain-core<0.4.0,>=0.3.15->langchain-text-splitters->-r requirements.txt (line 1)) (1.0.6)\r\n",
      "Requirement already satisfied: sniffio in /Users/cchase/git/github/cfchase/ny-state-poc/venv/lib/python3.11/site-packages (from httpx<1,>=0.23.0->langsmith<0.2.0,>=0.1.125->langchain-core<0.4.0,>=0.3.15->langchain-text-splitters->-r requirements.txt (line 1)) (1.3.1)\r\n",
      "Requirement already satisfied: h11<0.15,>=0.13 in /Users/cchase/git/github/cfchase/ny-state-poc/venv/lib/python3.11/site-packages (from httpcore==1.*->httpx<1,>=0.23.0->langsmith<0.2.0,>=0.1.125->langchain-core<0.4.0,>=0.3.15->langchain-text-splitters->-r requirements.txt (line 1)) (0.14.0)\r\n",
      "Requirement already satisfied: MarkupSafe>=2.0 in /Users/cchase/git/github/cfchase/ny-state-poc/venv/lib/python3.11/site-packages (from jinja2->torch<3.0.0,>=2.2.2->docling-ibm-models<3.0.0,>=2.0.3->docling~=2.5.2->docling[tesserocr]~=2.5.2->-r requirements.txt (line 4)) (2.1.5)\r\n"
     ]
    }
   ],
   "execution_count": 1
  },
  {
   "cell_type": "code",
   "metadata": {
    "ExecuteTime": {
     "end_time": "2024-12-11T20:51:55.630818Z",
     "start_time": "2024-12-11T20:51:55.623724Z"
    }
   },
   "source": [
    "from dotenv import load_dotenv\n",
    "from pathlib import Path\n",
    "import os\n",
    "\n",
    "load_dotenv(override=True)\n",
    "\n",
    "# Access the variables\n",
    "input_dir = Path(os.getenv('INPUT_DIR', 'document_collection'))\n",
    "output_dir = Path(os.getenv('OUTPUT_DIR', 'converted_documents'))\n",
    "os.makedirs(output_dir, exist_ok=True)"
   ],
   "outputs": [],
   "execution_count": 2
  },
  {
   "cell_type": "markdown",
   "metadata": {},
   "source": [
    "### Setup Instructions\n",
    "\n",
    "This demo demonstrates the process of converting raw PDF files into InstructLab Synthetic Knowledge Infusion Data using the RBC POC as an example. Follow these steps to get started with your own data.\n",
    "\n",
    "#### Steps to Get Started:\n",
    "\n",
    "1. **Organize Your Documents:**\n",
    "   - Create a new directory under the `document_collection` directory for your specific project. For example, if your project is named \"my_org,\" your directory structure should look like this:\n",
    "     ```\n",
    "     |-- document_collection\n",
    "     |   `-- my_subject\n",
    "     |       `-- my_subject_data.pdf\n",
    "     ```\n",
    "   - Place all your PDF files into this directory.\n",
    "\n",
    "2. **Create Your qna.yaml:**\n",
    "    - Create a taxonomy folder with qna.yaml files\n",
    "    - Ensure your ICL files contain sufficient context and question-answer pairs. We recommend including at least 5 distinct contexts, each with a minimum of 3 sets of questions and answers. More entries will improve the robustness of your data.\n",
    "    - The ICL file should be in the following format (refer to the `document_collection/my_subject/qna.yaml` file for an example):\n",
    "\n",
    "    ```yaml\n",
    "    domain: \n",
    "    document_outline: A one to two line description of the document\n",
    "    seed_examples:\n",
    "      - context: <context 1 goes here>\n",
    "        question_and_answers:\n",
    "          - question: <question 1 goes here>\n",
    "            answer: <answer 1 goes here>\n",
    "          - question: <question 2 goes here>\n",
    "            answer: <answer 2 goes here>\n",
    "          - question: <question 3 goes here>\n",
    "            answer: <answer 3 goes here>\n",
    "    ... \n",
    "\n",
    "\n",
    "   - **Note:** Replace placeholders with actual content relevant to your documents. Ensure the contexts are clear and questions are well-formulated to extract meaningful answers.\n",
    "\n",
    "3. **Update the Data Directory Path:**\n",
    "   - In the .env file, customize the `INPUT_DIR` variable to reflect the path to your directory.  For example:\n",
    "     ```shell\n",
    "     INPUT_DIR = \"document_collection\"\n",
    "     ```\n",
    "     If you do not customize this variable, it will default to `document_collection`\n",
    "4. **Update the Output Directory Path:**\n",
    "   - In the .env file, customize the `OUTPUT_DIR` variable to reflect the path to your output directory. For example:\n",
    "     ```shell\n",
    "     data_dir = \"converted_documents\"\n",
    "     ```\n",
    "     If you do not customize this variable, it will default to `converted_documents`.\n",
    "---"
   ]
  },
  {
   "cell_type": "markdown",
   "metadata": {},
   "source": [
    "### Convert PDF Documents to Markdown and JSON and inspect\n",
    "\n",
    "In order to understand how the PDF documents will be used for Synthetic Data Generation (SDG), you may want to view the converted documents.  We employ [Docling](https://github.com/DS4SD/docling), which is also used by the SDG conversion process of InstructLab.  If the converted documents are not well formed and accurate, you can modify the converted markdown as needed and use that as your source document instead of the PDF.\n",
    "\n"
   ]
  },
  {
   "cell_type": "code",
   "metadata": {
    "ExecuteTime": {
     "end_time": "2024-12-11T20:52:26.170404Z",
     "start_time": "2024-12-11T20:51:55.707760Z"
    }
   },
   "source": [
    "from pathlib import Path\n",
    "from typing import Iterable\n",
    "import json\n",
    "import time\n",
    "import os\n",
    "import re\n",
    "\n",
    "from docling.datamodel.base_models import ConversionStatus\n",
    "from docling.datamodel.document import ConversionResult\n",
    "from docling.document_converter import DocumentConverter\n",
    "\n",
    "\n",
    "def write_doc_json(conv_res, filename):\n",
    "    with filename.open(\"w\") as fp:\n",
    "        fp.write(json.dumps(conv_res.document.export_to_dict(), indent=2))\n",
    "    print(f\"Exported: {filename}\")\n",
    "    return filename\n",
    "\n",
    "\n",
    "def write_doc_md(conv_res, filename):\n",
    "    with filename.open(\"w\") as fp:\n",
    "        fp.write(conv_res.document.export_to_markdown())\n",
    "    print(f\"Exported: {filename}\")\n",
    "    return filename\n",
    "\n",
    "\n",
    "def process_directory(input_dir, output_dir):\n",
    "    file_paths = list(input_dir.rglob(\"*.pdf\"))\n",
    "    doc_converter = DocumentConverter()\n",
    "    start_time = time.time()\n",
    "    conversion_results = doc_converter.convert_all(file_paths)\n",
    "\n",
    "    success_count = 0\n",
    "    failure_count = 0\n",
    "    output_files = []\n",
    "\n",
    "    for conv_res in conversion_results:\n",
    "        if conv_res.status == ConversionStatus.SUCCESS:\n",
    "            success_count += 1\n",
    "            print(f\"Exporting: {conv_res.input.file}\")\n",
    "            doc_filename = conv_res.input.file.stem\n",
    "            doc_directory = conv_res.input.file.parent\n",
    "            doc_output_dir = Path(re.sub(str(input_dir), str(output_dir), str(doc_directory)))\n",
    "            doc_output_dir.mkdir(parents=True, exist_ok=True)\n",
    "\n",
    "            # output_json = write_doc_json(conv_res, doc_output_dir / f\"{doc_filename}.json\")\n",
    "            # output_files.append(output_json)\n",
    "            output_md = write_doc_md(conv_res, doc_output_dir / f\"{doc_filename}.md\")\n",
    "            output_files.append(output_md)\n",
    "\n",
    "        else:\n",
    "            print(f\"Document {conv_res.input.file} failed to convert.\")\n",
    "            failure_count += 1\n",
    "\n",
    "    print(\n",
    "        f\"Successfully processed {success_count} docs. \"\n",
    "        f\"Failed to convert {failure_count} docs. \"\n",
    "        f\"Elapsed time: {time.time() - start_time:.2f} seconds.\"\n",
    "    )\n",
    "\n",
    "    return success_count, failure_count\n",
    "\n",
    "process_directory(input_dir, output_dir)"
   ],
   "outputs": [
    {
     "name": "stderr",
     "output_type": "stream",
     "text": [
      "/Users/cchase/git/github/cfchase/ny-state-poc/venv/lib/python3.11/site-packages/tqdm/auto.py:21: TqdmWarning: IProgress not found. Please update jupyter and ipywidgets. See https://ipywidgets.readthedocs.io/en/stable/user_install.html\n",
      "  from .autonotebook import tqdm as notebook_tqdm\n",
      "Fetching 9 files: 100%|██████████| 9/9 [00:00<00:00, 61680.94it/s]\n"
     ]
    },
    {
     "name": "stdout",
     "output_type": "stream",
     "text": [
      "Exporting: document_collection2/ny_policies/nys-s16-001-new-york-state-universal-web-navigation/nys-s16-001-new-york-state-universal-web-navigation.pdf\n",
      "Exported: converted_documents3/ny_policies/nys-s16-001-new-york-state-universal-web-navigation/nys-s16-001-new-york-state-universal-web-navigation.md\n",
      "Exporting: document_collection2/ny_policies/nys-p24-001-acceptable-use-of-artificial-intelligence-technologies-_1/nys-p24-001-acceptable-use-of-artificial-intelligence-technologies-_1.pdf\n",
      "Exported: converted_documents3/ny_policies/nys-p24-001-acceptable-use-of-artificial-intelligence-technologies-_1/nys-p24-001-acceptable-use-of-artificial-intelligence-technologies-_1.md\n",
      "Exporting: document_collection2/ny_policies/its-p04-005-surplus-and-disposal-of-its-equipment-furniture-and-vehicles/its-p04-005-surplus-and-disposal-of-its-equipment-furniture-and-vehicles.pdf\n",
      "Exported: converted_documents3/ny_policies/its-p04-005-surplus-and-disposal-of-its-equipment-furniture-and-vehicles/its-p04-005-surplus-and-disposal-of-its-equipment-furniture-and-vehicles.md\n"
     ]
    },
    {
     "name": "stderr",
     "output_type": "stream",
     "text": [
      "WARNING: content stream objects stream 216 0 (content, offset 1800): parse error while reading object\n",
      "WARNING: content stream objects stream 217 0 (content, offset 291): treating unexpected array close token as null\n",
      "WARNING: content stream objects stream 217 0, content at offset 0: operation for array attempted on object of type string: treating as empty\n"
     ]
    },
    {
     "name": "stdout",
     "output_type": "stream",
     "text": [
      "Exporting: document_collection2/ny_policies/its-p19-005-open-source/its-p19-005-open-source.pdf\n",
      "Exported: converted_documents3/ny_policies/its-p19-005-open-source/its-p19-005-open-source.md\n",
      "Exporting: document_collection2/ny_policies/nys-p08-003-domain-names-for-state-government/nys-p08-003-domain-names-for-state-government.pdf\n",
      "Exported: converted_documents3/ny_policies/nys-p08-003-domain-names-for-state-government/nys-p08-003-domain-names-for-state-government.md\n",
      "Exporting: document_collection2/ny_policies/its-p10-003-its-telecommuting-policy/its-p10-003-its-telecommuting-policy.pdf\n",
      "Exported: converted_documents3/ny_policies/its-p10-003-its-telecommuting-policy/its-p10-003-its-telecommuting-policy.md\n",
      "Exporting: document_collection2/ny_policies/nys-s14-009_mobile_device_security/nys-s14-009_mobile_device_security.pdf\n",
      "Exported: converted_documents3/ny_policies/nys-s14-009_mobile_device_security/nys-s14-009_mobile_device_security.md\n",
      "Successfully processed 7 docs. Failed to convert 0 docs. Elapsed time: 28.16 seconds.\n"
     ]
    },
    {
     "data": {
      "text/plain": [
       "(7, 0)"
      ]
     },
     "execution_count": 3,
     "metadata": {},
     "output_type": "execute_result"
    }
   ],
   "execution_count": 3
  },
  {
   "cell_type": "code",
   "metadata": {
    "ExecuteTime": {
     "end_time": "2024-12-11T20:52:26.176318Z",
     "start_time": "2024-12-11T20:52:26.174949Z"
    }
   },
   "source": [],
   "outputs": [],
   "execution_count": null
  }
 ],
 "metadata": {
  "kernelspec": {
   "display_name": "Python 3 (ipykernel)",
   "language": "python",
   "name": "python3"
  },
  "language_info": {
   "codemirror_mode": {
    "name": "ipython",
    "version": 3
   },
   "file_extension": ".py",
   "mimetype": "text/x-python",
   "name": "python",
   "nbconvert_exporter": "python",
   "pygments_lexer": "ipython3",
   "version": "3.11.9"
  }
 },
 "nbformat": 4,
 "nbformat_minor": 4
}
